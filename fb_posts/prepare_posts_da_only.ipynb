{
 "cells": [
  {
   "cell_type": "code",
   "execution_count": 1,
   "metadata": {},
   "outputs": [],
   "source": [
    "import langid\n",
    "\n",
    "\n",
    "import codecs\n",
    "import pandas as pd\n",
    "import re\n",
    "#nltk.download('stopwords')\n",
    "from nltk.corpus import stopwords \n",
    "from nltk.tokenize import word_tokenize\n",
    "#nltk.download('punkt')\n",
    "import spacy\n",
    "\n",
    "\n",
    "import json\n",
    "import sys\n",
    "import pathlib\n",
    "from pathlib import Path\n",
    "import os"
   ]
  },
  {
   "cell_type": "code",
   "execution_count": 2,
   "metadata": {},
   "outputs": [],
   "source": [
    "def decode(path: str) -> list:\n",
    "    f = codecs.open(path, errors = 'ignore', encoding = 'utf-8')\n",
    "    data = f.read()\n",
    "    data = data.encode('latin1').decode('utf8')\n",
    "    data = data.splitlines()  \n",
    "    return data"
   ]
  },
  {
   "cell_type": "code",
   "execution_count": 3,
   "metadata": {},
   "outputs": [],
   "source": [
    "def change_letter(dataset: pd.DataFrame) -> list:\n",
    "    new_dataset = [re.sub('ø', 'oe', text) for text in dataset]\n",
    "    new_dataset = [re.sub('æ', 'ae', text) for text in new_dataset]\n",
    "    new_dataset = [re.sub('å', 'aa', text) for text in new_dataset]\n",
    "    new_dataset = [re.sub('Ø', 'oe', text) for text in new_dataset]\n",
    "    new_dataset = [re.sub('Æ', 'ae', text) for text in new_dataset]\n",
    "    new_dataset = [re.sub('Å', 'aa', text) for text in new_dataset]\n",
    "    new_dataset = [re.sub('ü', 'ue', text) for text in new_dataset]\n",
    "    new_dataset = [re.sub('Ü', 'ue', text) for text in new_dataset]\n",
    "    new_dataset = [re.sub('ä', 'ae', text) for text in new_dataset]\n",
    "    new_dataset = [re.sub('Ä', 'ae', text) for text in new_dataset]\n",
    "    new_dataset = [re.sub('ö', 'oe', text) for text in new_dataset]\n",
    "    new_dataset = [re.sub('Ö', 'oe', text) for text in new_dataset]\n",
    "    \n",
    "    return new_dataset"
   ]
  },
  {
   "cell_type": "code",
   "execution_count": 4,
   "metadata": {},
   "outputs": [],
   "source": [
    "def get_clean_text(dataset: list, stops_da, stops_en) -> list:\n",
    "    no_urls = [re.sub(r\"http\\S+\", \"\", text) for text in dataset] \n",
    "    only_letters = [re.sub(r\"(#[A-Za-z]+)|(@[A-Za-z]+)|([^A-Za-z \\t])|(\\w+:\\/\\/\\S+)\", ' ' , text) for text in no_urls] \n",
    "    only_letters = [text.replace('\\n', ' ') for text in only_letters]\n",
    "    lowercased_str = [text.lower().split() for text in only_letters] \n",
    "    no_stopwords = [[w for w in text if not w in stops_da] for text in lowercased_str] \n",
    "    no_stopwords = [[w for w in text if not w in stops_en] for text in no_stopwords] \n",
    "    cleaned_text = [\" \".join(text) for text in no_stopwords] \n",
    "    return cleaned_text"
   ]
  },
  {
   "cell_type": "code",
   "execution_count": 5,
   "metadata": {},
   "outputs": [],
   "source": [
    "def tokenize_text(data):\n",
    "    tokens = [word_tokenize(text) for text in data] \n",
    "    return tokens"
   ]
  },
  {
   "cell_type": "code",
   "execution_count": 6,
   "metadata": {},
   "outputs": [],
   "source": [
    "def lemmatize_text(sent):\n",
    "    lemmas = [x.lemma_ for x in nlp(sent)]\n",
    "    return lemmas"
   ]
  },
  {
   "cell_type": "code",
   "execution_count": 7,
   "metadata": {},
   "outputs": [],
   "source": [
    "def lemmatize_posts(tokenized_data: list):\n",
    "    lemmas = []\n",
    "    for post in tokenized_data:\n",
    "        lemma = [lemmatize_text(x) for x in post]\n",
    "        lemmas.append([item for sublist in lemma for item in sublist])\n",
    "    return lemmas"
   ]
  },
  {
   "cell_type": "code",
   "execution_count": 8,
   "metadata": {},
   "outputs": [],
   "source": [
    "def remove_mentions(dataset: list):\n",
    "    new_dataset = []\n",
    "    for i in dataset:\n",
    "        if i.startswith('@'):\n",
    "          i = i.replace(i, \"\")\n",
    "        new_dataset.append(i)\n",
    "    return new_dataset"
   ]
  },
  {
   "cell_type": "code",
   "execution_count": 9,
   "metadata": {},
   "outputs": [],
   "source": [
    "def only_da(dataset: list) -> list:\n",
    "\n",
    "    langid.set_languages(['da', 'en'])  \n",
    "    da = []\n",
    "\n",
    "    for i in dataset:\n",
    "        lang = langid.classify(i)\n",
    "        if lang[0] != 'en':          \n",
    "            da.append(i)\n",
    "\n",
    "\n",
    "    return da"
   ]
  },
  {
   "cell_type": "code",
   "execution_count": null,
   "metadata": {},
   "outputs": [],
   "source": [
    "file = open(\"../stop_words.txt\",\"r+\")\n",
    "stop_words = file.read().split()"
   ]
  },
  {
   "cell_type": "code",
   "execution_count": 10,
   "metadata": {},
   "outputs": [
    {
     "name": "stdout",
     "output_type": "stream",
     "text": [
      "19596\n"
     ]
    }
   ],
   "source": [
    "decoded_data = decode('prepared_txt/all_data.txt')\n",
    "print(len(decoded_data))"
   ]
  },
  {
   "cell_type": "code",
   "execution_count": 11,
   "metadata": {},
   "outputs": [
    {
     "name": "stdout",
     "output_type": "stream",
     "text": [
      "19596\n"
     ]
    }
   ],
   "source": [
    "new_data = remove_mentions(decoded_data)\n",
    "\n",
    "print(len(new_data))"
   ]
  },
  {
   "cell_type": "code",
   "execution_count": 12,
   "metadata": {},
   "outputs": [
    {
     "name": "stdout",
     "output_type": "stream",
     "text": [
      "19390\n"
     ]
    }
   ],
   "source": [
    "without_empty_strings = [string for string in new_data if string != \"\"]\n",
    "\n",
    "print(len(without_empty_strings))"
   ]
  },
  {
   "cell_type": "code",
   "execution_count": 13,
   "metadata": {},
   "outputs": [
    {
     "name": "stdout",
     "output_type": "stream",
     "text": [
      "[':proever at finde ud af at bruge facebook  - kraever lige lidt mere tid end jeg har nu.', 'sikken dejlig weekend - byggede hestehus og var ude at ride i det gode vejr loerdag. Soendag: ridetur og hestehusbyggeri i oesende regnvejr!!!']\n"
     ]
    }
   ],
   "source": [
    "fb_posts = change_letter(without_empty_strings)\n"
   ]
  },
  {
   "cell_type": "code",
   "execution_count": 71,
   "metadata": {},
   "outputs": [],
   "source": [
    "no_urls = [re.sub(r\"http\\S+\", \"\", text) for text in fb_posts] \n",
    "only_letters = [re.sub(r\"(#[A-Za-z]+)|(@[A-Za-z]+)|([^A-Za-z \\t])|(\\w+:\\/\\/\\S+)\", ' ' , text) for text in no_urls]"
   ]
  },
  {
   "cell_type": "code",
   "execution_count": 72,
   "metadata": {},
   "outputs": [],
   "source": [
    "splitted_text = [text.split() for text in only_letters] \n",
    "joined_text = [\" \".join(text) for text in splitted_text] "
   ]
  },
  {
   "cell_type": "code",
   "execution_count": 73,
   "metadata": {},
   "outputs": [
    {
     "name": "stdout",
     "output_type": "stream",
     "text": [
      "18627\n"
     ]
    }
   ],
   "source": [
    "remove_empty_strings = [string for string in joined_text if string != \"\"] \n",
    "print(len(remove_empty_strings))"
   ]
  },
  {
   "cell_type": "code",
   "execution_count": 74,
   "metadata": {},
   "outputs": [
    {
     "name": "stdout",
     "output_type": "stream",
     "text": [
      "15145\n"
     ]
    }
   ],
   "source": [
    "da = only_da(remove_empty_strings)\n",
    "\n",
    "print(len(da))"
   ]
  },
  {
   "cell_type": "code",
   "execution_count": 20,
   "metadata": {},
   "outputs": [],
   "source": [
    "#def translate_post(dataset: list) -> list:\n",
    "#    translator = Translator()\n",
    "#    langid.set_languages(['da', 'en'])  \n",
    "#    count = 0\n",
    "#    translated = []\n",
    "#\n",
    "#    for i in dataset:\n",
    "#        lang = langid.classify(i)\n",
    "#        if lang[0] == 'en':          \n",
    "#            t = (translator.translate(i, dest = 'da'))\n",
    "#            translated.append(t.text)\n",
    "#            \n",
    "#\n",
    "#        else:\n",
    "#            translated.append(i)\n",
    "#         \n",
    "#        \n",
    "#    return translated\n"
   ]
  },
  {
   "cell_type": "code",
   "execution_count": 50,
   "metadata": {},
   "outputs": [],
   "source": [
    "#translated_posts = translate_post(remove_empty_strings[:10000])"
   ]
  },
  {
   "cell_type": "code",
   "execution_count": 82,
   "metadata": {},
   "outputs": [],
   "source": [
    "nlp = spacy.load(\"da_core_news_sm\")\n",
    "stopwords_da = stopwords.words(\"danish\")  \n",
    "stopwords_da.extend(stop_words)"
   ]
  },
  {
   "cell_type": "code",
   "execution_count": 26,
   "metadata": {},
   "outputs": [],
   "source": [
    "nlp1 = spacy.load(\"en_core_web_sm\")\n",
    "stopwords_en = stopwords.words(\"english\")"
   ]
  },
  {
   "cell_type": "code",
   "execution_count": 83,
   "metadata": {},
   "outputs": [],
   "source": [
    "cleaned_posts = get_clean_text(da, stops_da = stopwords_da, stops_en = stopwords_en)"
   ]
  },
  {
   "cell_type": "code",
   "execution_count": 84,
   "metadata": {},
   "outputs": [],
   "source": [
    "no_empty_strings = [string for string in cleaned_posts if string != \"\"]"
   ]
  },
  {
   "cell_type": "code",
   "execution_count": null,
   "metadata": {},
   "outputs": [],
   "source": [
    "df1 = pd.DataFrame(no_empty_strings , columns=['cleaned_posts'])"
   ]
  },
  {
   "cell_type": "code",
   "execution_count": 85,
   "metadata": {},
   "outputs": [],
   "source": [
    "tokenized_posts = tokenize_text(no_empty_strings)"
   ]
  },
  {
   "cell_type": "code",
   "execution_count": 88,
   "metadata": {},
   "outputs": [],
   "source": [
    "lemmatized_posts = lemmatize_posts(tokenized_posts)"
   ]
  },
  {
   "cell_type": "code",
   "execution_count": 89,
   "metadata": {},
   "outputs": [],
   "source": [
    "df1['tokenized_posts'] = tokenized_posts\n",
    "df1['lemmatized_posts'] = lemmatized_posts\n"
   ]
  },
  {
   "cell_type": "code",
   "execution_count": 95,
   "metadata": {},
   "outputs": [],
   "source": [
    "#df1.to_pickle('prepared_txt/all_posts_da_df.pkl')"
   ]
  }
 ],
 "metadata": {
  "interpreter": {
   "hash": "d6805e15886aab53026236d0c7a2691c0f3a4936a9fa243a37c54dfd5efd3ad7"
  },
  "kernelspec": {
   "display_name": "Python 3.8.10 64-bit ('myproject-o7xzvy_i': venv)",
   "language": "python",
   "name": "python3"
  },
  "language_info": {
   "codemirror_mode": {
    "name": "ipython",
    "version": 3
   },
   "file_extension": ".py",
   "mimetype": "text/x-python",
   "name": "python",
   "nbconvert_exporter": "python",
   "pygments_lexer": "ipython3",
   "version": "3.8.10"
  },
  "orig_nbformat": 4
 },
 "nbformat": 4,
 "nbformat_minor": 2
}
