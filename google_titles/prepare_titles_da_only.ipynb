{
 "cells": [
  {
   "cell_type": "code",
   "execution_count": 1,
   "metadata": {},
   "outputs": [],
   "source": [
    "import langid\n",
    "\n",
    "import codecs\n",
    "import pandas as pd\n",
    "import re\n",
    "#nltk.download('stopwords')\n",
    "from nltk.corpus import stopwords \n",
    "from nltk.tokenize import word_tokenize\n",
    "#nltk.download('punkt')\n",
    "import spacy\n",
    "\n",
    "\n",
    "import json\n",
    "import sys\n",
    "import pathlib\n",
    "from pathlib import Path\n",
    "import os"
   ]
  },
  {
   "cell_type": "code",
   "execution_count": 4,
   "metadata": {},
   "outputs": [],
   "source": [
    "def change_letter(dataset: pd.DataFrame) -> list:\n",
    "    new_dataset = [re.sub('ø', 'oe', text) for text in dataset]\n",
    "    new_dataset = [re.sub('æ', 'ae', text) for text in new_dataset]\n",
    "    new_dataset = [re.sub('å', 'aa', text) for text in new_dataset]\n",
    "    new_dataset = [re.sub('Ø', 'oe', text) for text in new_dataset]\n",
    "    new_dataset = [re.sub('Æ', 'ae', text) for text in new_dataset]\n",
    "    new_dataset = [re.sub('Å', 'aa', text) for text in new_dataset]\n",
    "    new_dataset = [re.sub('ü', 'ue', text) for text in new_dataset]\n",
    "    new_dataset = [re.sub('Ü', 'ue', text) for text in new_dataset]\n",
    "    new_dataset = [re.sub('ä', 'ae', text) for text in new_dataset]\n",
    "    new_dataset = [re.sub('Ä', 'ae', text) for text in new_dataset]\n",
    "    new_dataset = [re.sub('ö', 'oe', text) for text in new_dataset]\n",
    "    new_dataset = [re.sub('Ö', 'oe', text) for text in new_dataset]\n",
    "    \n",
    "    return new_dataset"
   ]
  },
  {
   "cell_type": "code",
   "execution_count": 5,
   "metadata": {},
   "outputs": [],
   "source": [
    "def get_clean_text(dataset: list, stops_da, stops_en) -> list:\n",
    "    no_urls = [re.sub(r\"http\\S+\", \"\", text) for text in dataset] \n",
    "    only_letters = [re.sub(r\"(#[A-Za-z]+)|(@[A-Za-z]+)|([^A-Za-z \\t])|(\\w+:\\/\\/\\S+)\", ' ' , text) for text in no_urls] \n",
    "    only_letters = [text.replace('\\n', ' ') for text in only_letters]\n",
    "    lowercased_str = [text.lower().split() for text in only_letters] \n",
    "    no_stopwords = [[w for w in text if not w in stops_da] for text in lowercased_str] \n",
    "    no_stopwords = [[w for w in text if not w in stops_en] for text in no_stopwords] \n",
    "    cleaned_text = [\" \".join(text) for text in no_stopwords] \n",
    "    return cleaned_text"
   ]
  },
  {
   "cell_type": "code",
   "execution_count": 6,
   "metadata": {},
   "outputs": [],
   "source": [
    "def tokenize_text(data):\n",
    "    tokens = [word_tokenize(text) for text in data] \n",
    "    return tokens"
   ]
  },
  {
   "cell_type": "code",
   "execution_count": 7,
   "metadata": {},
   "outputs": [],
   "source": [
    "def lemmatize_text(sent):\n",
    "    lemmas = [x.lemma_ for x in nlp(sent)]\n",
    "    return lemmas"
   ]
  },
  {
   "cell_type": "code",
   "execution_count": 8,
   "metadata": {},
   "outputs": [],
   "source": [
    "def lemmatize_posts(tokenized_data: list):\n",
    "    lemmas = []\n",
    "    for post in tokenized_data:\n",
    "        lemma = [lemmatize_text(x) for x in post]\n",
    "        lemmas.append([item for sublist in lemma for item in sublist])\n",
    "    return lemmas"
   ]
  },
  {
   "cell_type": "code",
   "execution_count": 9,
   "metadata": {},
   "outputs": [],
   "source": [
    "def only_da(dataset: list) -> list:\n",
    "\n",
    "    langid.set_languages(['da', 'en'])  \n",
    "    da = []\n",
    "\n",
    "    for i in dataset:\n",
    "        lang = langid.classify(i)\n",
    "        if lang[0] != 'en':          \n",
    "            da.append(i)\n",
    "\n",
    "\n",
    "    return da"
   ]
  },
  {
   "cell_type": "code",
   "execution_count": 4,
   "metadata": {},
   "outputs": [],
   "source": [
    "def load_txt(path: str):\n",
    "    f = open(path, encoding = 'utf-8')\n",
    "    data = f.readlines()\n",
    "    return data"
   ]
  },
  {
   "cell_type": "code",
   "execution_count": 11,
   "metadata": {},
   "outputs": [],
   "source": [
    "file = open(\"../stop_words.txt\",\"r+\")\n",
    "stop_words = file.read().split()"
   ]
  },
  {
   "cell_type": "code",
   "execution_count": 5,
   "metadata": {},
   "outputs": [],
   "source": [
    "data = load_txt('prepared_txt/all_titles.txt')"
   ]
  },
  {
   "cell_type": "code",
   "execution_count": 6,
   "metadata": {},
   "outputs": [
    {
     "name": "stdout",
     "output_type": "stream",
     "text": [
      "128792\n"
     ]
    }
   ],
   "source": [
    "print(len(data))"
   ]
  },
  {
   "cell_type": "code",
   "execution_count": 14,
   "metadata": {},
   "outputs": [
    {
     "name": "stdout",
     "output_type": "stream",
     "text": [
      "86996\n"
     ]
    }
   ],
   "source": [
    "da = only_da(data)\n",
    "print(len(da))"
   ]
  },
  {
   "cell_type": "code",
   "execution_count": 15,
   "metadata": {},
   "outputs": [],
   "source": [
    "nlp = spacy.load(\"da_core_news_sm\")\n",
    "stopwords_da = stopwords.words(\"danish\")  \n",
    "stopwords_da.extend(stop_words)"
   ]
  },
  {
   "cell_type": "code",
   "execution_count": 16,
   "metadata": {},
   "outputs": [],
   "source": [
    "nlp1 = spacy.load(\"en_core_web_sm\")\n",
    "stopwords_en = stopwords.words(\"english\")"
   ]
  },
  {
   "cell_type": "code",
   "execution_count": 17,
   "metadata": {},
   "outputs": [],
   "source": [
    "titles = change_letter(da)"
   ]
  },
  {
   "cell_type": "code",
   "execution_count": 18,
   "metadata": {},
   "outputs": [],
   "source": [
    "cleaned_titles = get_clean_text(titles, stops_da = stopwords_da, stops_en = stopwords_en)"
   ]
  },
  {
   "cell_type": "code",
   "execution_count": 19,
   "metadata": {},
   "outputs": [],
   "source": [
    "remove_empty_strings = [string for string in cleaned_titles if string != \"\"]"
   ]
  },
  {
   "cell_type": "code",
   "execution_count": null,
   "metadata": {},
   "outputs": [],
   "source": [
    "df1 = pd.DataFrame(remove_empty_strings , columns=['cleaned_titles'])"
   ]
  },
  {
   "cell_type": "code",
   "execution_count": 20,
   "metadata": {},
   "outputs": [],
   "source": [
    "tokenized_titles= tokenize_text(remove_empty_strings)"
   ]
  },
  {
   "cell_type": "code",
   "execution_count": null,
   "metadata": {},
   "outputs": [],
   "source": [
    "lemmatized_titles = lemmatize_posts(tokenized_titles)"
   ]
  },
  {
   "cell_type": "code",
   "execution_count": null,
   "metadata": {},
   "outputs": [],
   "source": [
    "df1['tokenized_titles'] = tokenized_titles\n",
    "df1['lemmatized_titles'] = lemmatized_titles"
   ]
  },
  {
   "cell_type": "code",
   "execution_count": null,
   "metadata": {},
   "outputs": [],
   "source": [
    "#df1.to_pickle('prepared_txt/all_titles_da_df.pkl')"
   ]
  }
 ],
 "metadata": {
  "interpreter": {
   "hash": "d6805e15886aab53026236d0c7a2691c0f3a4936a9fa243a37c54dfd5efd3ad7"
  },
  "kernelspec": {
   "display_name": "Python 3.8.10 64-bit ('myproject-o7xzvy_i': venv)",
   "language": "python",
   "name": "python3"
  },
  "language_info": {
   "codemirror_mode": {
    "name": "ipython",
    "version": 3
   },
   "file_extension": ".py",
   "mimetype": "text/x-python",
   "name": "python",
   "nbconvert_exporter": "python",
   "pygments_lexer": "ipython3",
   "version": "3.8.10"
  },
  "orig_nbformat": 4
 },
 "nbformat": 4,
 "nbformat_minor": 2
}
