{
 "cells": [
  {
   "cell_type": "code",
   "execution_count": 1,
   "metadata": {},
   "outputs": [],
   "source": [
    "import pandas as pd\n",
    "import gensim\n",
    "from gensim.models import CoherenceModel, LdaModel, LsiModel, HdpModel\n",
    "from gensim.corpora import Dictionary\n",
    "\n",
    "import pyLDAvis.gensim_models\n",
    "import pyLDAvis.sklearn\n",
    "#pyLDAvis.enable_notebook()\n",
    "\n",
    "from sklearn.feature_extraction.text import CountVectorizer, TfidfVectorizer\n",
    "from sklearn.decomposition import LatentDirichletAllocation\n",
    "\n",
    "from gensim.models import CoherenceModel"
   ]
  },
  {
   "cell_type": "code",
   "execution_count": 2,
   "metadata": {},
   "outputs": [],
   "source": [
    "def compute_coherence_values(dictionary, \n",
    "                             corpus, \n",
    "                             texts, \n",
    "                             max_topics, \n",
    "                             min_topics, \n",
    "                             step):\n",
    "    \"\"\"\n",
    "    Compute c_v coherence for various number of topics\n",
    "\n",
    "    Parameters:\n",
    "    ----------\n",
    "    dictionary : Gensim dictionary\n",
    "    corpus : Gensim corpus\n",
    "    texts : List of input texts\n",
    "    limit : Max num of topics\n",
    "\n",
    "    Returns:\n",
    "    -------\n",
    "    model_list : List of LDA topic models\n",
    "    coherence_values : Coherence values corresponding to the LDA model with respective number of topics\n",
    "    \"\"\"\n",
    "    coherence_values = []\n",
    "    model_list = []\n",
    "    \n",
    "    for num_topics in range(min_topics, max_topics, step):\n",
    "\n",
    "        model = LdaModel(corpus = corpus, \n",
    "                         num_topics = num_topics, \n",
    "                         id2word = dictionary,\n",
    "                         update_every = 1,\n",
    "                         passes = 10,\n",
    "                         per_word_topics = True)\n",
    "\n",
    "        model_list.append(model)\n",
    "        coherencemodel = CoherenceModel(model = model, \n",
    "                                        texts = texts, \n",
    "                                        dictionary = dictionary, \n",
    "                                        coherence='c_v')\n",
    "\n",
    "        coherence_values.append(coherencemodel.get_coherence())\n",
    "\n",
    "    return model_list, coherence_values"
   ]
  },
  {
   "cell_type": "code",
   "execution_count": 3,
   "metadata": {},
   "outputs": [],
   "source": [
    "df1 = pd.read_pickle('prepared_txt/all_titles_da_df.pkl')"
   ]
  },
  {
   "cell_type": "code",
   "execution_count": 4,
   "metadata": {},
   "outputs": [],
   "source": [
    "bigram = gensim.models.Phrases(df1['lemmatized_titles'])\n",
    "titles_bigrams = [bigram[line] for line in df1['lemmatized_titles']]"
   ]
  },
  {
   "cell_type": "code",
   "execution_count": 5,
   "metadata": {},
   "outputs": [],
   "source": [
    "dictionary = Dictionary(titles_bigrams)\n",
    "corpus = [dictionary.doc2bow(text) for text in titles_bigrams]"
   ]
  },
  {
   "cell_type": "code",
   "execution_count": 16,
   "metadata": {},
   "outputs": [],
   "source": [
    "min_topics = 2\n",
    "max_topics = 10\n",
    "step = 2\n",
    "x = range(min_topics, max_topics, step)"
   ]
  },
  {
   "cell_type": "code",
   "execution_count": 17,
   "metadata": {},
   "outputs": [],
   "source": [
    "model_list, coherence_values = compute_coherence_values(dictionary = dictionary, \n",
    "                                                        corpus = corpus, \n",
    "                                                        texts = titles_bigrams, \n",
    "                                                        min_topics = min_topics, \n",
    "                                                        max_topics = max_topics, \n",
    "                                                        step = step)"
   ]
  },
  {
   "cell_type": "code",
   "execution_count": 18,
   "metadata": {},
   "outputs": [
    {
     "name": "stdout",
     "output_type": "stream",
     "text": [
      "2\n"
     ]
    }
   ],
   "source": [
    "best_result_index = coherence_values.index(max(coherence_values))\n",
    "print(x[best_result_index])\n",
    "\n",
    "\n",
    "#optimal_model = model_list[best_result_index]\n",
    "# Select the model and print the topics\n",
    "#model_topics = optimal_model.show_topics(formatted=False)\n",
    "#print(f'''The {x[best_result_index]} topic gives the highest coherence score \\\\\n",
    "#of {coherence_values[best_result_index]}''')"
   ]
  },
  {
   "cell_type": "code",
   "execution_count": 19,
   "metadata": {},
   "outputs": [],
   "source": [
    "ldamodel = LdaModel(corpus = corpus, \n",
    "                    num_topics = x[best_result_index], \n",
    "                    id2word = dictionary,\n",
    "                    update_every = 1,\n",
    "                    passes = 10,\n",
    "                    per_word_topics = True)"
   ]
  },
  {
   "cell_type": "code",
   "execution_count": 10,
   "metadata": {},
   "outputs": [
    {
     "name": "stderr",
     "output_type": "stream",
     "text": [
      "/home/kate/.local/share/virtualenvs/myproject-o7xzvy_i/lib/python3.8/site-packages/pyLDAvis/_prepare.py:246: FutureWarning: In a future version of pandas all arguments of DataFrame.drop except for the argument 'labels' will be keyword-only\n",
      "  default_term_info = default_term_info.sort_values(\n",
      "/home/kate/.local/share/virtualenvs/myproject-o7xzvy_i/lib/python3.8/site-packages/past/builtins/misc.py:45: DeprecationWarning: the imp module is deprecated in favour of importlib; see the module's documentation for alternative uses\n",
      "  from imp import reload\n",
      "/home/kate/.local/share/virtualenvs/myproject-o7xzvy_i/lib/python3.8/site-packages/past/builtins/misc.py:45: DeprecationWarning: the imp module is deprecated in favour of importlib; see the module's documentation for alternative uses\n",
      "  from imp import reload\n",
      "/home/kate/.local/share/virtualenvs/myproject-o7xzvy_i/lib/python3.8/site-packages/past/builtins/misc.py:45: DeprecationWarning: the imp module is deprecated in favour of importlib; see the module's documentation for alternative uses\n",
      "  from imp import reload\n",
      "/home/kate/.local/share/virtualenvs/myproject-o7xzvy_i/lib/python3.8/site-packages/past/builtins/misc.py:45: DeprecationWarning: the imp module is deprecated in favour of importlib; see the module's documentation for alternative uses\n",
      "  from imp import reload\n",
      "/home/kate/.local/share/virtualenvs/myproject-o7xzvy_i/lib/python3.8/site-packages/past/builtins/misc.py:45: DeprecationWarning: the imp module is deprecated in favour of importlib; see the module's documentation for alternative uses\n",
      "  from imp import reload\n",
      "/home/kate/.local/share/virtualenvs/myproject-o7xzvy_i/lib/python3.8/site-packages/past/builtins/misc.py:45: DeprecationWarning: the imp module is deprecated in favour of importlib; see the module's documentation for alternative uses\n",
      "  from imp import reload\n",
      "/home/kate/.local/share/virtualenvs/myproject-o7xzvy_i/lib/python3.8/site-packages/past/builtins/misc.py:45: DeprecationWarning: the imp module is deprecated in favour of importlib; see the module's documentation for alternative uses\n",
      "  from imp import reload\n",
      "/home/kate/.local/share/virtualenvs/myproject-o7xzvy_i/lib/python3.8/site-packages/past/builtins/misc.py:45: DeprecationWarning: the imp module is deprecated in favour of importlib; see the module's documentation for alternative uses\n",
      "  from imp import reload\n"
     ]
    }
   ],
   "source": [
    "#pyLDAvis.enable_notebook()\n",
    "model =pyLDAvis.gensim_models.prepare(ldamodel, corpus, dictionary)\n",
    "#pyLDAvis.display(model)\n",
    "pyLDAvis.save_html(model, 'models/da/all_titles_da.html')"
   ]
  },
  {
   "cell_type": "code",
   "execution_count": null,
   "metadata": {},
   "outputs": [],
   "source": [
    "#import matplotlib\n",
    "#import matplotlib.pyplot as plt\n",
    "\n",
    "#min_topics = 1\n",
    "#max_topics= 30\n",
    "#step = 1\n",
    "#x = range(min_topics, max_topics, step)\n",
    "#plt.plot(x, coherence_values)\n",
    "#plt.xlabel(\"Num Topics\")\n",
    "#plt.ylabel(\"Coherence score\")\n",
    "#plt.legend((\"coherence_values\"), loc='best')"
   ]
  }
 ],
 "metadata": {
  "interpreter": {
   "hash": "d6805e15886aab53026236d0c7a2691c0f3a4936a9fa243a37c54dfd5efd3ad7"
  },
  "kernelspec": {
   "display_name": "Python 3.8.10 64-bit ('myproject-o7xzvy_i': venv)",
   "language": "python",
   "name": "python3"
  },
  "language_info": {
   "codemirror_mode": {
    "name": "ipython",
    "version": 3
   },
   "file_extension": ".py",
   "mimetype": "text/x-python",
   "name": "python",
   "nbconvert_exporter": "python",
   "pygments_lexer": "ipython3",
   "version": "3.8.10"
  },
  "orig_nbformat": 4
 },
 "nbformat": 4,
 "nbformat_minor": 2
}
