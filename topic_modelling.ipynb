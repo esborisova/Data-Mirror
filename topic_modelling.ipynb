{
 "cells": [
  {
   "cell_type": "code",
   "execution_count": 18,
   "id": "37a2360b-0582-4fe4-a2ca-5a317b2312c0",
   "metadata": {
    "execution": {
     "iopub.execute_input": "2021-12-20T20:38:28.329498Z",
     "iopub.status.busy": "2021-12-20T20:38:28.329006Z",
     "iopub.status.idle": "2021-12-20T20:38:28.337215Z",
     "shell.execute_reply": "2021-12-20T20:38:28.336452Z",
     "shell.execute_reply.started": "2021-12-20T20:38:28.329450Z"
    },
    "tags": []
   },
   "outputs": [],
   "source": [
    "import pandas as pd\n",
    "import pickle\n",
    "import gensim\n",
    "from gensim.models import CoherenceModel, LdaModel, LsiModel, HdpModel\n",
    "from gensim.corpora import Dictionary\n",
    "\n",
    "import pyLDAvis.gensim_models\n",
    "import pyLDAvis.sklearn\n",
    "pyLDAvis.enable_notebook()\n",
    "\n",
    "from sklearn.feature_extraction.text import CountVectorizer, TfidfVectorizer\n",
    "from sklearn.decomposition import LatentDirichletAllocation"
   ]
  },
  {
   "cell_type": "code",
   "execution_count": 19,
   "id": "6cb8b647-7ee2-4dcb-99e5-18b286e00eb6",
   "metadata": {
    "execution": {
     "iopub.execute_input": "2021-12-20T20:38:28.727400Z",
     "iopub.status.busy": "2021-12-20T20:38:28.726871Z",
     "iopub.status.idle": "2021-12-20T20:38:28.735803Z",
     "shell.execute_reply": "2021-12-20T20:38:28.734818Z",
     "shell.execute_reply.started": "2021-12-20T20:38:28.727354Z"
    },
    "tags": []
   },
   "outputs": [],
   "source": [
    "df = pd.read_pickle('prepared_data.pkl')"
   ]
  },
  {
   "cell_type": "code",
   "execution_count": 20,
   "id": "9aef3f1e-5f29-448a-8583-d2f86e43fd26",
   "metadata": {
    "execution": {
     "iopub.execute_input": "2021-12-20T20:38:29.107458Z",
     "iopub.status.busy": "2021-12-20T20:38:29.106918Z",
     "iopub.status.idle": "2021-12-20T20:38:29.125724Z",
     "shell.execute_reply": "2021-12-20T20:38:29.125315Z",
     "shell.execute_reply.started": "2021-12-20T20:38:29.107411Z"
    },
    "tags": []
   },
   "outputs": [
    {
     "data": {
      "text/html": [
       "<div>\n",
       "<style scoped>\n",
       "    .dataframe tbody tr th:only-of-type {\n",
       "        vertical-align: middle;\n",
       "    }\n",
       "\n",
       "    .dataframe tbody tr th {\n",
       "        vertical-align: top;\n",
       "    }\n",
       "\n",
       "    .dataframe thead th {\n",
       "        text-align: right;\n",
       "    }\n",
       "</style>\n",
       "<table border=\"1\" class=\"dataframe\">\n",
       "  <thead>\n",
       "    <tr style=\"text-align: right;\">\n",
       "      <th></th>\n",
       "      <th>post</th>\n",
       "      <th>cleaned_posts</th>\n",
       "      <th>tokenized_posts</th>\n",
       "      <th>lemmatized_posts</th>\n",
       "    </tr>\n",
       "  </thead>\n",
       "  <tbody>\n",
       "    <tr>\n",
       "      <th>0</th>\n",
       "      <td>slutter barselsorlov på mandag</td>\n",
       "      <td>slutter barselsorlov mandag</td>\n",
       "      <td>[slutter, barselsorlov, mandag]</td>\n",
       "      <td>[slutte, barselsorlov, mandag]</td>\n",
       "    </tr>\n",
       "    <tr>\n",
       "      <th>1</th>\n",
       "      <td>har sat hus til salg og flytter til Zurich ti...</td>\n",
       "      <td>sat hus salg flytter zurich januar synes stadi...</td>\n",
       "      <td>[sat, hus, salg, flytter, zurich, januar, syne...</td>\n",
       "      <td>[sætte, hus, salg, flytte, zurich, januar, syn...</td>\n",
       "    </tr>\n",
       "    <tr>\n",
       "      <th>2</th>\n",
       "      <td>så frokost og hyggelig eftermiddag i Zurich c...</td>\n",
       "      <td>frokost hyggelig eftermiddag zurich centrum</td>\n",
       "      <td>[frokost, hyggelig, eftermiddag, zurich, centrum]</td>\n",
       "      <td>[frokost, hyggelig, eftermiddag, zurich, centrum]</td>\n",
       "    </tr>\n",
       "    <tr>\n",
       "      <th>3</th>\n",
       "      <td>hvor julepyntet er godt på vej og sidst - men...</td>\n",
       "      <td>julepyntet godt vej sidst mindst laekker midda...</td>\n",
       "      <td>[julepyntet, godt, vej, sidst, mindst, laekker...</td>\n",
       "      <td>[julepynte, godte, vej, sidst, lille, laekker,...</td>\n",
       "    </tr>\n",
       "    <tr>\n",
       "      <th>4</th>\n",
       "      <td>og nu dobbelt storebror Oskar og storesøster ...</td>\n",
       "      <td>dobbelt storebror oskar storesoester ester sto...</td>\n",
       "      <td>[dobbelt, storebror, oskar, storesoester, este...</td>\n",
       "      <td>[dobbelt, storebror, oskar, storesoester, este...</td>\n",
       "    </tr>\n",
       "  </tbody>\n",
       "</table>\n",
       "</div>"
      ],
      "text/plain": [
       "                                                post  \\\n",
       "0                     slutter barselsorlov på mandag   \n",
       "1   har sat hus til salg og flytter til Zurich ti...   \n",
       "2   så frokost og hyggelig eftermiddag i Zurich c...   \n",
       "3   hvor julepyntet er godt på vej og sidst - men...   \n",
       "4   og nu dobbelt storebror Oskar og storesøster ...   \n",
       "\n",
       "                                       cleaned_posts  \\\n",
       "0                        slutter barselsorlov mandag   \n",
       "1  sat hus salg flytter zurich januar synes stadi...   \n",
       "2        frokost hyggelig eftermiddag zurich centrum   \n",
       "3  julepyntet godt vej sidst mindst laekker midda...   \n",
       "4  dobbelt storebror oskar storesoester ester sto...   \n",
       "\n",
       "                                     tokenized_posts  \\\n",
       "0                    [slutter, barselsorlov, mandag]   \n",
       "1  [sat, hus, salg, flytter, zurich, januar, syne...   \n",
       "2  [frokost, hyggelig, eftermiddag, zurich, centrum]   \n",
       "3  [julepyntet, godt, vej, sidst, mindst, laekker...   \n",
       "4  [dobbelt, storebror, oskar, storesoester, este...   \n",
       "\n",
       "                                    lemmatized_posts  \n",
       "0                     [slutte, barselsorlov, mandag]  \n",
       "1  [sætte, hus, salg, flytte, zurich, januar, syn...  \n",
       "2  [frokost, hyggelig, eftermiddag, zurich, centrum]  \n",
       "3  [julepynte, godte, vej, sidst, lille, laekker,...  \n",
       "4  [dobbelt, storebror, oskar, storesoester, este...  "
      ]
     },
     "execution_count": 20,
     "metadata": {},
     "output_type": "execute_result"
    }
   ],
   "source": [
    "df.head()"
   ]
  },
  {
   "cell_type": "code",
   "execution_count": 21,
   "id": "62b8810f-fa4a-44b7-a570-6444e5fd37b0",
   "metadata": {
    "execution": {
     "iopub.execute_input": "2021-12-20T20:38:29.450046Z",
     "iopub.status.busy": "2021-12-20T20:38:29.449505Z",
     "iopub.status.idle": "2021-12-20T20:38:29.469748Z",
     "shell.execute_reply": "2021-12-20T20:38:29.469305Z",
     "shell.execute_reply.started": "2021-12-20T20:38:29.450000Z"
    },
    "tags": []
   },
   "outputs": [],
   "source": [
    "bigram = gensim.models.Phrases(df['lemmatized_posts'])\n",
    "posts_bigrams = [bigram[line] for line in df['lemmatized_posts']]"
   ]
  },
  {
   "cell_type": "code",
   "execution_count": 22,
   "id": "ec65a070-94c8-4805-a62a-4910723dba3f",
   "metadata": {
    "execution": {
     "iopub.execute_input": "2021-12-20T20:38:29.855367Z",
     "iopub.status.busy": "2021-12-20T20:38:29.854825Z",
     "iopub.status.idle": "2021-12-20T20:38:29.859662Z",
     "shell.execute_reply": "2021-12-20T20:38:29.858711Z",
     "shell.execute_reply.started": "2021-12-20T20:38:29.855321Z"
    },
    "tags": []
   },
   "outputs": [],
   "source": [
    "#print(posts_bigrams)"
   ]
  },
  {
   "cell_type": "code",
   "execution_count": 23,
   "id": "2818e6da-63fc-475f-a0db-31871cc57b03",
   "metadata": {
    "execution": {
     "iopub.execute_input": "2021-12-20T20:38:30.172784Z",
     "iopub.status.busy": "2021-12-20T20:38:30.172238Z",
     "iopub.status.idle": "2021-12-20T20:38:30.190748Z",
     "shell.execute_reply": "2021-12-20T20:38:30.190124Z",
     "shell.execute_reply.started": "2021-12-20T20:38:30.172715Z"
    },
    "tags": []
   },
   "outputs": [],
   "source": [
    "dictionary = Dictionary(posts_bigrams)\n",
    "corpus = [dictionary.doc2bow(text) for text in posts_bigrams]"
   ]
  },
  {
   "cell_type": "code",
   "execution_count": 24,
   "id": "fc284070-80a1-4e47-a2d5-68c4209e7d2b",
   "metadata": {
    "execution": {
     "iopub.execute_input": "2021-12-20T20:38:30.525464Z",
     "iopub.status.busy": "2021-12-20T20:38:30.524912Z",
     "iopub.status.idle": "2021-12-20T20:38:30.529666Z",
     "shell.execute_reply": "2021-12-20T20:38:30.528716Z",
     "shell.execute_reply.started": "2021-12-20T20:38:30.525419Z"
    },
    "tags": []
   },
   "outputs": [],
   "source": [
    "#print(corpus)\n",
    "#print(dictionary)"
   ]
  },
  {
   "cell_type": "code",
   "execution_count": 31,
   "id": "0a64bdb5-dfdb-4e40-ad36-be44f45d1c26",
   "metadata": {
    "execution": {
     "iopub.execute_input": "2021-12-20T20:38:54.230918Z",
     "iopub.status.busy": "2021-12-20T20:38:54.230320Z",
     "iopub.status.idle": "2021-12-20T20:38:54.740732Z",
     "shell.execute_reply": "2021-12-20T20:38:54.740266Z",
     "shell.execute_reply.started": "2021-12-20T20:38:54.230869Z"
    },
    "tags": []
   },
   "outputs": [],
   "source": [
    "ldamodel = LdaModel(corpus = corpus, \n",
    "                    num_topics = 25, \n",
    "                    id2word = dictionary,\n",
    "                    update_every = 1,\n",
    "                    passes = 10,\n",
    "                    per_word_topics = True)"
   ]
  },
  {
   "cell_type": "code",
   "execution_count": 39,
   "id": "71263915-00fb-4acf-a599-375d76580695",
   "metadata": {
    "execution": {
     "iopub.execute_input": "2021-12-20T20:40:31.067261Z",
     "iopub.status.busy": "2021-12-20T20:40:31.066658Z",
     "iopub.status.idle": "2021-12-20T20:40:31.820513Z",
     "shell.execute_reply": "2021-12-20T20:40:31.819705Z",
     "shell.execute_reply.started": "2021-12-20T20:40:31.067214Z"
    },
    "tags": []
   },
   "outputs": [
    {
     "name": "stderr",
     "output_type": "stream",
     "text": [
      "/opt/conda/lib/python3.9/site-packages/pyLDAvis/_prepare.py:246: FutureWarning: In a future version of pandas all arguments of DataFrame.drop except for the argument 'labels' will be keyword-only\n",
      "  default_term_info = default_term_info.sort_values(\n"
     ]
    }
   ],
   "source": [
    "pyLDAvis.enable_notebook()\n",
    "p =pyLDAvis.gensim_models.prepare(ldamodel, corpus, dictionary)\n"
   ]
  },
  {
   "cell_type": "code",
   "execution_count": 40,
   "id": "3376700e-ecab-4c0d-8f25-d56fdd05ee22",
   "metadata": {
    "execution": {
     "iopub.execute_input": "2021-12-20T20:40:34.888071Z",
     "iopub.status.busy": "2021-12-20T20:40:34.887481Z",
     "iopub.status.idle": "2021-12-20T20:40:34.904718Z",
     "shell.execute_reply": "2021-12-20T20:40:34.904170Z",
     "shell.execute_reply.started": "2021-12-20T20:40:34.888024Z"
    },
    "tags": []
   },
   "outputs": [],
   "source": [
    "pyLDAvis.save_html(p, 'model.html')"
   ]
  },
  {
   "cell_type": "code",
   "execution_count": null,
   "id": "be6e99b8-e327-4299-bbde-a5fc3b81c7a9",
   "metadata": {},
   "outputs": [],
   "source": []
  }
 ],
 "metadata": {
  "kernelspec": {
   "display_name": "Python 3 ",
   "language": "python",
   "name": "python3"
  },
  "language_info": {
   "codemirror_mode": {
    "name": "ipython",
    "version": 3
   },
   "file_extension": ".py",
   "mimetype": "text/x-python",
   "name": "python",
   "nbconvert_exporter": "python",
   "pygments_lexer": "ipython3",
   "version": "3.9.6"
  }
 },
 "nbformat": 4,
 "nbformat_minor": 5
}
